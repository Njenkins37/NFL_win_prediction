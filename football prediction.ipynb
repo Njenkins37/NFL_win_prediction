{
 "cells": [
  {
   "cell_type": "code",
   "execution_count": 2,
   "id": "c8564900",
   "metadata": {},
   "outputs": [],
   "source": [
    "import pandas as pd\n",
    "import numpy as np"
   ]
  },
  {
   "cell_type": "code",
   "execution_count": 3,
   "id": "0818f443",
   "metadata": {},
   "outputs": [
    {
     "data": {
      "text/html": [
       "<div>\n",
       "<style scoped>\n",
       "    .dataframe tbody tr th:only-of-type {\n",
       "        vertical-align: middle;\n",
       "    }\n",
       "\n",
       "    .dataframe tbody tr th {\n",
       "        vertical-align: top;\n",
       "    }\n",
       "\n",
       "    .dataframe thead th {\n",
       "        text-align: right;\n",
       "    }\n",
       "</style>\n",
       "<table border=\"1\" class=\"dataframe\">\n",
       "  <thead>\n",
       "    <tr style=\"text-align: right;\">\n",
       "      <th></th>\n",
       "      <th>Year</th>\n",
       "      <th>Team Number</th>\n",
       "      <th>Rushing Yards</th>\n",
       "      <th>Passing Yards</th>\n",
       "      <th>Time Of Possession</th>\n",
       "      <th>Rushing Yards allowed</th>\n",
       "      <th>Passing Yards Allowed</th>\n",
       "      <th>Penalty Yards</th>\n",
       "      <th>Turnovers</th>\n",
       "      <th>Win</th>\n",
       "    </tr>\n",
       "  </thead>\n",
       "  <tbody>\n",
       "    <tr>\n",
       "      <th>0</th>\n",
       "      <td>2023</td>\n",
       "      <td>1</td>\n",
       "      <td>130.0</td>\n",
       "      <td>215.0</td>\n",
       "      <td>30.50</td>\n",
       "      <td>179.0</td>\n",
       "      <td>203.0</td>\n",
       "      <td>36.0</td>\n",
       "      <td>2.0</td>\n",
       "      <td>0.0</td>\n",
       "    </tr>\n",
       "    <tr>\n",
       "      <th>1</th>\n",
       "      <td>2023</td>\n",
       "      <td>2</td>\n",
       "      <td>106.0</td>\n",
       "      <td>296.0</td>\n",
       "      <td>36.00</td>\n",
       "      <td>72.0</td>\n",
       "      <td>121.0</td>\n",
       "      <td>31.0</td>\n",
       "      <td>3.0</td>\n",
       "      <td>0.0</td>\n",
       "    </tr>\n",
       "    <tr>\n",
       "      <th>2</th>\n",
       "      <td>2023</td>\n",
       "      <td>3</td>\n",
       "      <td>139.0</td>\n",
       "      <td>221.0</td>\n",
       "      <td>35.00</td>\n",
       "      <td>129.0</td>\n",
       "      <td>104.0</td>\n",
       "      <td>88.0</td>\n",
       "      <td>1.0</td>\n",
       "      <td>1.0</td>\n",
       "    </tr>\n",
       "    <tr>\n",
       "      <th>3</th>\n",
       "      <td>2023</td>\n",
       "      <td>4</td>\n",
       "      <td>128.0</td>\n",
       "      <td>169.0</td>\n",
       "      <td>29.50</td>\n",
       "      <td>132.0</td>\n",
       "      <td>185.0</td>\n",
       "      <td>51.0</td>\n",
       "      <td>2.0</td>\n",
       "      <td>1.0</td>\n",
       "    </tr>\n",
       "    <tr>\n",
       "      <th>4</th>\n",
       "      <td>2023</td>\n",
       "      <td>5</td>\n",
       "      <td>108.0</td>\n",
       "      <td>188.0</td>\n",
       "      <td>30.00</td>\n",
       "      <td>162.0</td>\n",
       "      <td>262.0</td>\n",
       "      <td>11.0</td>\n",
       "      <td>0.0</td>\n",
       "      <td>0.0</td>\n",
       "    </tr>\n",
       "    <tr>\n",
       "      <th>...</th>\n",
       "      <td>...</td>\n",
       "      <td>...</td>\n",
       "      <td>...</td>\n",
       "      <td>...</td>\n",
       "      <td>...</td>\n",
       "      <td>...</td>\n",
       "      <td>...</td>\n",
       "      <td>...</td>\n",
       "      <td>...</td>\n",
       "      <td>...</td>\n",
       "    </tr>\n",
       "    <tr>\n",
       "      <th>155</th>\n",
       "      <td>2023</td>\n",
       "      <td>28</td>\n",
       "      <td>159.0</td>\n",
       "      <td>206.0</td>\n",
       "      <td>26.75</td>\n",
       "      <td>89.0</td>\n",
       "      <td>297.0</td>\n",
       "      <td>57.0</td>\n",
       "      <td>0.0</td>\n",
       "      <td>1.0</td>\n",
       "    </tr>\n",
       "    <tr>\n",
       "      <th>156</th>\n",
       "      <td>2023</td>\n",
       "      <td>29</td>\n",
       "      <td>82.0</td>\n",
       "      <td>311.0</td>\n",
       "      <td>33.50</td>\n",
       "      <td>102.0</td>\n",
       "      <td>316.0</td>\n",
       "      <td>80.0</td>\n",
       "      <td>0.0</td>\n",
       "      <td>1.0</td>\n",
       "    </tr>\n",
       "    <tr>\n",
       "      <th>157</th>\n",
       "      <td>2023</td>\n",
       "      <td>30</td>\n",
       "      <td>120.0</td>\n",
       "      <td>317.0</td>\n",
       "      <td>36.00</td>\n",
       "      <td>67.0</td>\n",
       "      <td>169.0</td>\n",
       "      <td>54.0</td>\n",
       "      <td>0.0</td>\n",
       "      <td>1.0</td>\n",
       "    </tr>\n",
       "    <tr>\n",
       "      <th>158</th>\n",
       "      <td>2023</td>\n",
       "      <td>31</td>\n",
       "      <td>141.0</td>\n",
       "      <td>200.0</td>\n",
       "      <td>36.75</td>\n",
       "      <td>61.0</td>\n",
       "      <td>281.0</td>\n",
       "      <td>45.0</td>\n",
       "      <td>0.0</td>\n",
       "      <td>1.0</td>\n",
       "    </tr>\n",
       "    <tr>\n",
       "      <th>159</th>\n",
       "      <td>2023</td>\n",
       "      <td>32</td>\n",
       "      <td>122.0</td>\n",
       "      <td>266.0</td>\n",
       "      <td>33.75</td>\n",
       "      <td>122.0</td>\n",
       "      <td>277.0</td>\n",
       "      <td>71.0</td>\n",
       "      <td>0.0</td>\n",
       "      <td>1.0</td>\n",
       "    </tr>\n",
       "  </tbody>\n",
       "</table>\n",
       "<p>154 rows × 10 columns</p>\n",
       "</div>"
      ],
      "text/plain": [
       "     Year  Team Number  Rushing Yards  Passing Yards  Time Of Possession  \\\n",
       "0    2023            1          130.0          215.0               30.50   \n",
       "1    2023            2          106.0          296.0               36.00   \n",
       "2    2023            3          139.0          221.0               35.00   \n",
       "3    2023            4          128.0          169.0               29.50   \n",
       "4    2023            5          108.0          188.0               30.00   \n",
       "..    ...          ...            ...            ...                 ...   \n",
       "155  2023           28          159.0          206.0               26.75   \n",
       "156  2023           29           82.0          311.0               33.50   \n",
       "157  2023           30          120.0          317.0               36.00   \n",
       "158  2023           31          141.0          200.0               36.75   \n",
       "159  2023           32          122.0          266.0               33.75   \n",
       "\n",
       "     Rushing Yards allowed  Passing Yards Allowed  Penalty Yards  Turnovers  \\\n",
       "0                    179.0                  203.0           36.0        2.0   \n",
       "1                     72.0                  121.0           31.0        3.0   \n",
       "2                    129.0                  104.0           88.0        1.0   \n",
       "3                    132.0                  185.0           51.0        2.0   \n",
       "4                    162.0                  262.0           11.0        0.0   \n",
       "..                     ...                    ...            ...        ...   \n",
       "155                   89.0                  297.0           57.0        0.0   \n",
       "156                  102.0                  316.0           80.0        0.0   \n",
       "157                   67.0                  169.0           54.0        0.0   \n",
       "158                   61.0                  281.0           45.0        0.0   \n",
       "159                  122.0                  277.0           71.0        0.0   \n",
       "\n",
       "     Win  \n",
       "0    0.0  \n",
       "1    0.0  \n",
       "2    1.0  \n",
       "3    1.0  \n",
       "4    0.0  \n",
       "..   ...  \n",
       "155  1.0  \n",
       "156  1.0  \n",
       "157  1.0  \n",
       "158  1.0  \n",
       "159  1.0  \n",
       "\n",
       "[154 rows x 10 columns]"
      ]
     },
     "execution_count": 3,
     "metadata": {},
     "output_type": "execute_result"
    }
   ],
   "source": [
    "team_data = pd.read_csv(\"week2.csv\")\n",
    "team_data.dropna(inplace=True)\n",
    "\n",
    "\n",
    "team_data"
   ]
  },
  {
   "cell_type": "code",
   "execution_count": null,
   "id": "6e629a3c",
   "metadata": {},
   "outputs": [],
   "source": []
  },
  {
   "cell_type": "code",
   "execution_count": 98,
   "id": "b1b05ed0",
   "metadata": {},
   "outputs": [
    {
     "data": {
      "text/plain": [
       "array([142. , 215. ,  30.5, 127. , 287. ,  55. ,   0. ])"
      ]
     },
     "execution_count": 98,
     "metadata": {},
     "output_type": "execute_result"
    }
   ],
   "source": [
    "condition = team_data['Team Number'] == 1\n",
    "filtered_teams = team_data.loc[condition]\n",
    "arizona = filtered_teams[['Rushing Yards', 'Passing Yards', 'Time Of Possession',\n",
    "                        'Rushing Yards allowed', 'Passing Yards Allowed','Penalty Yards', 'Turnovers']].median()\n",
    "arizona_array = arizona.values\n",
    "arizona_array"
   ]
  },
  {
   "cell_type": "code",
   "execution_count": 99,
   "id": "71019369",
   "metadata": {},
   "outputs": [
    {
     "data": {
      "text/plain": [
       "array([106. , 235. ,  35.5,  84. , 243. ,  50. ,   2. ])"
      ]
     },
     "execution_count": 99,
     "metadata": {},
     "output_type": "execute_result"
    }
   ],
   "source": [
    "condition = team_data['Team Number'] == 2\n",
    "filtered_teams = team_data.loc[condition]\n",
    "atlanta = filtered_teams[['Rushing Yards', 'Passing Yards', 'Time Of Possession',\n",
    "                        'Rushing Yards allowed', 'Passing Yards Allowed', 'Penalty Yards','Turnovers']].median()\n",
    "atlanta_array = atlanta.values\n",
    "atlanta_array"
   ]
  },
  {
   "cell_type": "code",
   "execution_count": 100,
   "id": "d4eae830",
   "metadata": {},
   "outputs": [
    {
     "data": {
      "text/plain": [
       "array([139.  , 221.  ,  32.25,  93.  , 188.  ,  56.  ,   1.  ])"
      ]
     },
     "execution_count": 100,
     "metadata": {},
     "output_type": "execute_result"
    }
   ],
   "source": [
    "condition = team_data['Team Number'] == 3\n",
    "filtered_teams = team_data.loc[condition]\n",
    "baltimore = filtered_teams[['Rushing Yards', 'Passing Yards', 'Time Of Possession',\n",
    "                        'Rushing Yards allowed', 'Passing Yards Allowed', 'Penalty Yards','Turnovers']].median()\n",
    "baltimore_array = baltimore.values\n",
    "baltimore_array"
   ]
  },
  {
   "cell_type": "code",
   "execution_count": 101,
   "id": "433b5c10",
   "metadata": {},
   "outputs": [
    {
     "data": {
      "text/plain": [
       "array([128., 267.,  30., 132., 185.,  45.,   1.])"
      ]
     },
     "execution_count": 101,
     "metadata": {},
     "output_type": "execute_result"
    }
   ],
   "source": [
    "condition = team_data['Team Number'] == 4\n",
    "filtered_teams = team_data.loc[condition]\n",
    "bills = filtered_teams[['Rushing Yards', 'Passing Yards', 'Time Of Possession',\n",
    "                        'Rushing Yards allowed', 'Passing Yards Allowed', 'Penalty Yards','Turnovers']].median()\n",
    "bills_array = bills.values\n",
    "bills_array"
   ]
  },
  {
   "cell_type": "code",
   "execution_count": 102,
   "id": "feae8e74",
   "metadata": {},
   "outputs": [
    {
     "data": {
      "text/plain": [
       "array([ 99. , 188. ,  29.5, 146. , 218. ,  45. ,   1. ])"
      ]
     },
     "execution_count": 102,
     "metadata": {},
     "output_type": "execute_result"
    }
   ],
   "source": [
    "condition = team_data['Team Number'] == 5\n",
    "filtered_teams = team_data.loc[condition]\n",
    "carolina = filtered_teams[['Rushing Yards', 'Passing Yards', 'Time Of Possession',\n",
    "                        'Rushing Yards allowed', 'Passing Yards Allowed', 'Penalty Yards','Turnovers']].median()\n",
    "carolina_array = carolina.values\n",
    "carolina_array"
   ]
  },
  {
   "cell_type": "code",
   "execution_count": 103,
   "id": "50c8adf6",
   "metadata": {},
   "outputs": [
    {
     "data": {
      "text/plain": [
       "array([116., 169.,  30.,  97., 303.,  32.,   2.])"
      ]
     },
     "execution_count": 103,
     "metadata": {},
     "output_type": "execute_result"
    }
   ],
   "source": [
    "condition = team_data['Team Number'] == 6\n",
    "filtered_teams = team_data.loc[condition]\n",
    "chicago = filtered_teams[['Rushing Yards', 'Passing Yards', 'Time Of Possession',\n",
    "                        'Rushing Yards allowed', 'Passing Yards Allowed', 'Penalty Yards','Turnovers']].median()\n",
    "chicago_array = chicago.values\n",
    "chicago_array"
   ]
  },
  {
   "cell_type": "code",
   "execution_count": 104,
   "id": "f9730e61",
   "metadata": {},
   "outputs": [
    {
     "data": {
      "text/plain": [
       "array([ 72., 216.,  33., 142., 221.,  40.,   1.])"
      ]
     },
     "execution_count": 104,
     "metadata": {},
     "output_type": "execute_result"
    }
   ],
   "source": [
    "condition = team_data['Team Number'] == 7\n",
    "filtered_teams = team_data.loc[condition]\n",
    "cleveland = filtered_teams[['Rushing Yards', 'Passing Yards', 'Time Of Possession',\n",
    "                        'Rushing Yards allowed', 'Passing Yards Allowed', 'Penalty Yards', 'Turnovers']].median()\n",
    "cleveland_array = cleveland.values\n",
    "cleveland_array"
   ]
  },
  {
   "cell_type": "code",
   "execution_count": 105,
   "id": "cbed0262",
   "metadata": {},
   "outputs": [
    {
     "data": {
      "text/plain": [
       "array([104.  , 146.  ,  29.25,  75.5 , 182.5 ,  44.  ,   3.  ])"
      ]
     },
     "execution_count": 105,
     "metadata": {},
     "output_type": "execute_result"
    }
   ],
   "source": [
    "condition = team_data['Team Number'] == 8\n",
    "filtered_teams = team_data.loc[condition]\n",
    "cincinatti = filtered_teams[['Rushing Yards', 'Passing Yards', 'Time Of Possession',\n",
    "                        'Rushing Yards allowed', 'Passing Yards Allowed', 'Penalty Yards','Turnovers']].median()\n",
    "cincinnati_array = cincinatti.values\n",
    "cincinnati_array"
   ]
  },
  {
   "cell_type": "code",
   "execution_count": 106,
   "id": "f49bd2b9",
   "metadata": {},
   "outputs": [
    {
     "data": {
      "text/plain": [
       "array([124. , 246. ,  34.5,  64. , 200. ,  60. ,   1. ])"
      ]
     },
     "execution_count": 106,
     "metadata": {},
     "output_type": "execute_result"
    }
   ],
   "source": [
    "condition = team_data['Team Number'] == 9\n",
    "filtered_teams = team_data.loc[condition]\n",
    "dallas = filtered_teams[['Rushing Yards', 'Passing Yards', 'Time Of Possession',\n",
    "                        'Rushing Yards allowed', 'Passing Yards Allowed', 'Penalty Yards','Turnovers']].median()\n",
    "dallas_array = dallas.values\n",
    "dallas_array"
   ]
  },
  {
   "cell_type": "code",
   "execution_count": 107,
   "id": "1cfa198c",
   "metadata": {},
   "outputs": [
    {
     "data": {
      "text/plain": [
       "array([ 97.  , 277.  ,  26.25, 171.  , 266.  ,  39.  ,   2.  ])"
      ]
     },
     "execution_count": 107,
     "metadata": {},
     "output_type": "execute_result"
    }
   ],
   "source": [
    "condition = team_data['Team Number'] == 10\n",
    "filtered_teams = team_data.loc[condition]\n",
    "denver = filtered_teams[['Rushing Yards', 'Passing Yards', 'Time Of Possession',\n",
    "                        'Rushing Yards allowed', 'Passing Yards Allowed', 'Penalty Yards','Turnovers']].median()\n",
    "denver_array = denver.values\n",
    "denver_array"
   ]
  },
  {
   "cell_type": "code",
   "execution_count": 108,
   "id": "734b02ed",
   "metadata": {},
   "outputs": [
    {
     "data": {
      "text/plain": [
       "array([137.   , 230.5  ,  32.125,  63.   , 223.   ,  52.5  ,   1.   ])"
      ]
     },
     "execution_count": 108,
     "metadata": {},
     "output_type": "execute_result"
    }
   ],
   "source": [
    "condition = team_data['Team Number'] == 11\n",
    "filtered_teams = team_data.loc[condition]\n",
    "detroit = filtered_teams[['Rushing Yards', 'Passing Yards', 'Time Of Possession',\n",
    "                        'Rushing Yards allowed', 'Passing Yards Allowed', 'Penalty Yards','Turnovers']].median()\n",
    "detroit_array = detroit.values\n",
    "detroit_array"
   ]
  },
  {
   "cell_type": "code",
   "execution_count": 109,
   "id": "042657ee",
   "metadata": {},
   "outputs": [
    {
     "data": {
      "text/plain": [
       "array([ 95. , 177. ,  27.5,  96. , 211. ,  31. ,   1. ])"
      ]
     },
     "execution_count": 109,
     "metadata": {},
     "output_type": "execute_result"
    }
   ],
   "source": [
    "condition = team_data['Team Number'] == 12\n",
    "filtered_teams = team_data.loc[condition]\n",
    "greenbay = filtered_teams[['Rushing Yards', 'Passing Yards', 'Time Of Possession',\n",
    "                        'Rushing Yards allowed', 'Passing Yards Allowed', 'Penalty Yards','Turnovers']].median()\n",
    "greenbay_array = greenbay.values\n",
    "greenbay_array"
   ]
  },
  {
   "cell_type": "code",
   "execution_count": 110,
   "id": "2973f9c3",
   "metadata": {},
   "outputs": [
    {
     "data": {
      "text/plain": [
       "array([ 64., 310.,  31., 114., 227.,  46.,   0.])"
      ]
     },
     "execution_count": 110,
     "metadata": {},
     "output_type": "execute_result"
    }
   ],
   "source": [
    "condition = team_data['Team Number'] == 13\n",
    "filtered_teams = team_data.loc[condition]\n",
    "houston = filtered_teams[['Rushing Yards', 'Passing Yards', 'Time Of Possession',\n",
    "                        'Rushing Yards allowed', 'Passing Yards Allowed', 'Penalty Yards','Turnovers']].median()\n",
    "houston_array = houston.values\n",
    "houston_array"
   ]
  },
  {
   "cell_type": "code",
   "execution_count": 111,
   "id": "f15fb26e",
   "metadata": {},
   "outputs": [
    {
     "data": {
      "text/plain": [
       "array([133., 196.,  29.,  89., 303.,  42.,   0.])"
      ]
     },
     "execution_count": 111,
     "metadata": {},
     "output_type": "execute_result"
    }
   ],
   "source": [
    "condition = team_data['Team Number'] == 14\n",
    "filtered_teams = team_data.loc[condition]\n",
    "colts = filtered_teams[['Rushing Yards', 'Passing Yards', 'Time Of Possession',\n",
    "                        'Rushing Yards allowed', 'Passing Yards Allowed', 'Penalty Yards','Turnovers']].median()\n",
    "colts_array = colts.values\n",
    "colts_array"
   ]
  },
  {
   "cell_type": "code",
   "execution_count": 112,
   "id": "dc9ec648",
   "metadata": {},
   "outputs": [
    {
     "data": {
      "text/plain": [
       "array([101., 293.,  32., 108., 228.,  84.,   2.])"
      ]
     },
     "execution_count": 112,
     "metadata": {},
     "output_type": "execute_result"
    }
   ],
   "source": [
    "condition = team_data['Team Number'] == 15\n",
    "filtered_teams = team_data.loc[condition]\n",
    "kansascity = filtered_teams[['Rushing Yards', 'Passing Yards', 'Time Of Possession',\n",
    "                        'Rushing Yards allowed', 'Passing Yards Allowed', 'Penalty Yards', 'Turnovers']].median()\n",
    "kansascity_array = kansascity.values\n",
    "kansascity_array"
   ]
  },
  {
   "cell_type": "code",
   "execution_count": 113,
   "id": "b49b3642",
   "metadata": {},
   "outputs": [
    {
     "data": {
      "text/plain": [
       "array([108.   , 215.5  ,  27.625, 113.   , 223.   ,  61.   ,   1.   ])"
      ]
     },
     "execution_count": 113,
     "metadata": {},
     "output_type": "execute_result"
    }
   ],
   "source": [
    "condition = team_data['Team Number'] == 16\n",
    "filtered_teams = team_data.loc[condition]\n",
    "chargers = filtered_teams[['Rushing Yards', 'Passing Yards', 'Time Of Possession',\n",
    "                        'Rushing Yards allowed', 'Passing Yards Allowed', 'Penalty Yards','Turnovers']].median()\n",
    "chargers_array = chargers.values\n",
    "chargers_array"
   ]
  },
  {
   "cell_type": "code",
   "execution_count": 114,
   "id": "bc69a038",
   "metadata": {},
   "outputs": [
    {
     "data": {
      "text/plain": [
       "array([ 89. , 221. ,  29.5, 159. , 206. ,  55. ,   1. ])"
      ]
     },
     "execution_count": 114,
     "metadata": {},
     "output_type": "execute_result"
    }
   ],
   "source": [
    "condition = team_data['Team Number'] == 17\n",
    "filtered_teams = team_data.loc[condition]\n",
    "rams = filtered_teams[['Rushing Yards', 'Passing Yards', 'Time Of Possession',\n",
    "                        'Rushing Yards allowed', 'Passing Yards Allowed', 'Penalty Yards','Turnovers']].median()\n",
    "rams_array = rams.values\n",
    "rams_array"
   ]
  },
  {
   "cell_type": "code",
   "execution_count": 115,
   "id": "11f10406",
   "metadata": {},
   "outputs": [
    {
     "data": {
      "text/plain": [
       "array([105., 197.,  32.,  86., 298.,  25.,   1.])"
      ]
     },
     "execution_count": 115,
     "metadata": {},
     "output_type": "execute_result"
    }
   ],
   "source": [
    "condition = team_data['Team Number'] == 18\n",
    "filtered_teams = team_data.loc[condition]\n",
    "jacksonville = filtered_teams[['Rushing Yards', 'Passing Yards', 'Time Of Possession',\n",
    "                        'Rushing Yards allowed', 'Passing Yards Allowed', 'Penalty Yards','Turnovers']].median()\n",
    "jacksonville_array = jacksonville.values\n",
    "jacksonville_array"
   ]
  },
  {
   "cell_type": "code",
   "execution_count": 116,
   "id": "483b3aff",
   "metadata": {},
   "outputs": [
    {
     "data": {
      "text/plain": [
       "array([162., 262.,  30.,  88., 200.,  46.,   1.])"
      ]
     },
     "execution_count": 116,
     "metadata": {},
     "output_type": "execute_result"
    }
   ],
   "source": [
    "condition = team_data['Team Number'] == 19\n",
    "filtered_teams = team_data.loc[condition]\n",
    "miami = filtered_teams[['Rushing Yards', 'Passing Yards', 'Time Of Possession',\n",
    "                        'Rushing Yards allowed', 'Passing Yards Allowed', 'Penalty Yards','Turnovers']].median()\n",
    "miami_array = miami.values\n",
    "miami_array"
   ]
  },
  {
   "cell_type": "code",
   "execution_count": 117,
   "id": "92028dd7",
   "metadata": {},
   "outputs": [
    {
     "data": {
      "text/plain": [
       "array([ 70., 259.,  25.,  83., 171.,  45.,   2.])"
      ]
     },
     "execution_count": 117,
     "metadata": {},
     "output_type": "execute_result"
    }
   ],
   "source": [
    "condition = team_data['Team Number'] == 20\n",
    "filtered_teams = team_data.loc[condition]\n",
    "minesota = filtered_teams[['Rushing Yards', 'Passing Yards', 'Time Of Possession',\n",
    "                        'Rushing Yards allowed', 'Passing Yards Allowed', 'Penalty Yards','Turnovers']].median()\n",
    "minesota_array = minesota.values\n",
    "minesota_array"
   ]
  },
  {
   "cell_type": "code",
   "execution_count": 118,
   "id": "155427ee",
   "metadata": {},
   "outputs": [
    {
     "data": {
      "text/plain": [
       "array([ 83., 200.,  28., 124., 244.,  45.,   2.])"
      ]
     },
     "execution_count": 118,
     "metadata": {},
     "output_type": "execute_result"
    }
   ],
   "source": [
    "condition = team_data['Team Number'] == 21\n",
    "filtered_teams = team_data.loc[condition]\n",
    "newengland = filtered_teams[['Rushing Yards', 'Passing Yards', 'Time Of Possession',\n",
    "                        'Rushing Yards allowed', 'Passing Yards Allowed', 'Penalty Yards','Turnovers']].median()\n",
    "newengland_array = newengland.values\n",
    "newengland_array"
   ]
  },
  {
   "cell_type": "code",
   "execution_count": 119,
   "id": "472d3158",
   "metadata": {},
   "outputs": [
    {
     "data": {
      "text/plain": [
       "array([ 89. , 175. ,  31.5, 100. , 177. ,  83. ,   1. ])"
      ]
     },
     "execution_count": 119,
     "metadata": {},
     "output_type": "execute_result"
    }
   ],
   "source": [
    "condition = team_data['Team Number'] == 22\n",
    "filtered_teams = team_data.loc[condition]\n",
    "neworleans = filtered_teams[['Rushing Yards', 'Passing Yards', 'Time Of Possession',\n",
    "                        'Rushing Yards allowed', 'Passing Yards Allowed', 'Penalty Yards','Turnovers']].median()\n",
    "neworleans_array = neworleans.values\n",
    "neworleans_array\n"
   ]
  },
  {
   "cell_type": "code",
   "execution_count": 120,
   "id": "d36c0dc7",
   "metadata": {},
   "outputs": [
    {
     "data": {
      "text/plain": [
       "array([112. , 183. ,  31.5, 141. , 228. ,  45. ,   1. ])"
      ]
     },
     "execution_count": 120,
     "metadata": {},
     "output_type": "execute_result"
    }
   ],
   "source": [
    "condition = team_data['Team Number'] == 23\n",
    "filtered_teams = team_data.loc[condition]\n",
    "giants = filtered_teams[['Rushing Yards', 'Passing Yards', 'Time Of Possession',\n",
    "                        'Rushing Yards allowed', 'Passing Yards Allowed', 'Penalty Yards','Turnovers']].median()\n",
    "giants_array = giants.values\n",
    "giants_array"
   ]
  },
  {
   "cell_type": "code",
   "execution_count": 121,
   "id": "bb39af1a",
   "metadata": {},
   "outputs": [
    {
     "data": {
      "text/plain": [
       "array([108., 151.,  28., 139., 201.,  42.,   1.])"
      ]
     },
     "execution_count": 121,
     "metadata": {},
     "output_type": "execute_result"
    }
   ],
   "source": [
    "condition = team_data['Team Number'] == 24\n",
    "filtered_teams = team_data.loc[condition]\n",
    "jets = filtered_teams[['Rushing Yards', 'Passing Yards', 'Time Of Possession',\n",
    "                        'Rushing Yards allowed', 'Passing Yards Allowed', 'Penalty Yards', 'Turnovers']].median()\n",
    "jets_array = jets.values\n",
    "jets_array"
   ]
  },
  {
   "cell_type": "code",
   "execution_count": 122,
   "id": "e128aa28",
   "metadata": {},
   "outputs": [
    {
     "data": {
      "text/plain": [
       "array([ 76., 188.,  32., 110., 176.,  42.,   3.])"
      ]
     },
     "execution_count": 122,
     "metadata": {},
     "output_type": "execute_result"
    }
   ],
   "source": [
    "condition = team_data['Team Number'] == 25\n",
    "filtered_teams = team_data.loc[condition]\n",
    "raiders = filtered_teams[['Rushing Yards', 'Passing Yards', 'Time Of Possession',\n",
    "                        'Rushing Yards allowed', 'Passing Yards Allowed', 'Penalty Yards','Turnovers']].median()\n",
    "raiders_array = raiders.values\n",
    "raiders_array"
   ]
  },
  {
   "cell_type": "code",
   "execution_count": 123,
   "id": "75243bb2",
   "metadata": {},
   "outputs": [
    {
     "data": {
      "text/plain": [
       "array([159.  , 271.  ,  30.75,  54.  , 195.  ,  45.  ,   1.  ])"
      ]
     },
     "execution_count": 123,
     "metadata": {},
     "output_type": "execute_result"
    }
   ],
   "source": [
    "condition = team_data['Team Number'] == 26\n",
    "filtered_teams = team_data.loc[condition]\n",
    "philadelphia = filtered_teams[['Rushing Yards', 'Passing Yards', 'Time Of Possession',\n",
    "                        'Rushing Yards allowed', 'Passing Yards Allowed', 'Penalty Yards','Turnovers']].median()\n",
    "philadelphia_array = philadelphia.values\n",
    "philadelphia_array"
   ]
  },
  {
   "cell_type": "code",
   "execution_count": 124,
   "id": "bca3374d",
   "metadata": {},
   "outputs": [
    {
     "data": {
      "text/plain": [
       "array([ 96.   , 201.   ,  28.625, 132.   , 251.5  ,  30.5  ,   1.   ])"
      ]
     },
     "execution_count": 124,
     "metadata": {},
     "output_type": "execute_result"
    }
   ],
   "source": [
    "condition = team_data['Team Number'] == 27\n",
    "filtered_teams = team_data.loc[condition]\n",
    "pittsburgh = filtered_teams[['Rushing Yards', 'Passing Yards', 'Time Of Possession',\n",
    "                        'Rushing Yards allowed', 'Passing Yards Allowed', 'Penalty Yards', 'Turnovers']].median()\n",
    "pittsburgh_array = pittsburgh.values\n",
    "pittsburgh_array"
   ]
  },
  {
   "cell_type": "code",
   "execution_count": 125,
   "id": "8863e78f",
   "metadata": {},
   "outputs": [
    {
     "data": {
      "text/plain": [
       "array([141.  , 251.  ,  29.25,  89.  , 174.  ,  57.  ,   0.  ])"
      ]
     },
     "execution_count": 125,
     "metadata": {},
     "output_type": "execute_result"
    }
   ],
   "source": [
    "condition = team_data['Team Number'] == 28\n",
    "filtered_teams = team_data.loc[condition]\n",
    "sanfrancisco = filtered_teams[['Rushing Yards', 'Passing Yards', 'Time Of Possession',\n",
    "                        'Rushing Yards allowed', 'Passing Yards Allowed', 'Penalty Yards','Turnovers']].median()\n",
    "sanfrancisco_array = sanfrancisco.values\n",
    "sanfrancisco_array"
   ]
  },
  {
   "cell_type": "code",
   "execution_count": 126,
   "id": "eb3c0a93",
   "metadata": {},
   "outputs": [
    {
     "data": {
      "text/plain": [
       "array([104. , 286.5,  32. ,  74. , 242. ,  72. ,   0.5])"
      ]
     },
     "execution_count": 126,
     "metadata": {},
     "output_type": "execute_result"
    }
   ],
   "source": [
    "condition = team_data['Team Number'] == 29\n",
    "filtered_teams = team_data.loc[condition]\n",
    "seattle = filtered_teams[['Rushing Yards', 'Passing Yards', 'Time Of Possession',\n",
    "                        'Rushing Yards allowed', 'Passing Yards Allowed', 'Penalty Yards','Turnovers']].median()\n",
    "seattle_array = seattle.values\n",
    "seattle_array"
   ]
  },
  {
   "cell_type": "code",
   "execution_count": 127,
   "id": "b630c7e8",
   "metadata": {},
   "outputs": [
    {
     "data": {
      "text/plain": [
       "array([ 80.  , 222.  ,  27.25,  68.5 , 220.  ,  43.5 ,   1.  ])"
      ]
     },
     "execution_count": 127,
     "metadata": {},
     "output_type": "execute_result"
    }
   ],
   "source": [
    "condition = team_data['Team Number'] == 30\n",
    "filtered_teams = team_data.loc[condition]\n",
    "tampabay = filtered_teams[['Rushing Yards', 'Passing Yards', 'Time Of Possession',\n",
    "                        'Rushing Yards allowed', 'Passing Yards Allowed', 'Penalty Yards','Turnovers']].median()\n",
    "tampabay_array = tampabay.values\n",
    "tampabay_array"
   ]
  },
  {
   "cell_type": "code",
   "execution_count": 128,
   "id": "bd0600bf",
   "metadata": {},
   "outputs": [
    {
     "data": {
      "text/plain": [
       "array([129., 200.,  29.,  78., 236.,  45.,   1.])"
      ]
     },
     "execution_count": 128,
     "metadata": {},
     "output_type": "execute_result"
    }
   ],
   "source": [
    "condition = team_data['Team Number'] == 31\n",
    "filtered_teams = team_data.loc[condition]\n",
    "tennessee = filtered_teams[['Rushing Yards', 'Passing Yards', 'Time Of Possession',\n",
    "                        'Rushing Yards allowed', 'Passing Yards Allowed', 'Penalty Yards','Turnovers']].median()\n",
    "tennessee_array = tennessee.values\n",
    "tennessee_array"
   ]
  },
  {
   "cell_type": "code",
   "execution_count": 129,
   "id": "88161b55",
   "metadata": {},
   "outputs": [
    {
     "data": {
      "text/plain": [
       "array([105., 258.,  30., 122., 277.,  40.,   0.])"
      ]
     },
     "execution_count": 129,
     "metadata": {},
     "output_type": "execute_result"
    }
   ],
   "source": [
    "condition = team_data['Team Number'] == 32\n",
    "filtered_teams = team_data.loc[condition]\n",
    "washington = filtered_teams[['Rushing Yards', 'Passing Yards', 'Time Of Possession',\n",
    "                        'Rushing Yards allowed', 'Passing Yards Allowed', 'Penalty Yards','Turnovers']].median()\n",
    "washington_array = washington.values\n",
    "washington_array"
   ]
  },
  {
   "cell_type": "code",
   "execution_count": 130,
   "id": "56dd72c9",
   "metadata": {},
   "outputs": [],
   "source": [
    "team_data = team_data.drop(\"Team Number\", axis = 1)\n"
   ]
  },
  {
   "cell_type": "code",
   "execution_count": 131,
   "id": "bd7995a1",
   "metadata": {},
   "outputs": [
    {
     "data": {
      "text/html": [
       "<div>\n",
       "<style scoped>\n",
       "    .dataframe tbody tr th:only-of-type {\n",
       "        vertical-align: middle;\n",
       "    }\n",
       "\n",
       "    .dataframe tbody tr th {\n",
       "        vertical-align: top;\n",
       "    }\n",
       "\n",
       "    .dataframe thead th {\n",
       "        text-align: right;\n",
       "    }\n",
       "</style>\n",
       "<table border=\"1\" class=\"dataframe\">\n",
       "  <thead>\n",
       "    <tr style=\"text-align: right;\">\n",
       "      <th></th>\n",
       "      <th>Rushing Yards</th>\n",
       "      <th>Passing Yards</th>\n",
       "      <th>Time Of Possession</th>\n",
       "      <th>Rushing Yards allowed</th>\n",
       "      <th>Passing Yards Allowed</th>\n",
       "      <th>Penalty Yards</th>\n",
       "      <th>Turnovers</th>\n",
       "      <th>Win</th>\n",
       "    </tr>\n",
       "  </thead>\n",
       "  <tbody>\n",
       "    <tr>\n",
       "      <th>0</th>\n",
       "      <td>130.0</td>\n",
       "      <td>215.0</td>\n",
       "      <td>30.50</td>\n",
       "      <td>179.0</td>\n",
       "      <td>203.0</td>\n",
       "      <td>36.0</td>\n",
       "      <td>2.0</td>\n",
       "      <td>0.0</td>\n",
       "    </tr>\n",
       "    <tr>\n",
       "      <th>1</th>\n",
       "      <td>106.0</td>\n",
       "      <td>296.0</td>\n",
       "      <td>36.00</td>\n",
       "      <td>72.0</td>\n",
       "      <td>121.0</td>\n",
       "      <td>31.0</td>\n",
       "      <td>3.0</td>\n",
       "      <td>0.0</td>\n",
       "    </tr>\n",
       "    <tr>\n",
       "      <th>2</th>\n",
       "      <td>139.0</td>\n",
       "      <td>221.0</td>\n",
       "      <td>35.00</td>\n",
       "      <td>129.0</td>\n",
       "      <td>104.0</td>\n",
       "      <td>88.0</td>\n",
       "      <td>1.0</td>\n",
       "      <td>1.0</td>\n",
       "    </tr>\n",
       "    <tr>\n",
       "      <th>3</th>\n",
       "      <td>128.0</td>\n",
       "      <td>169.0</td>\n",
       "      <td>29.50</td>\n",
       "      <td>132.0</td>\n",
       "      <td>185.0</td>\n",
       "      <td>51.0</td>\n",
       "      <td>2.0</td>\n",
       "      <td>1.0</td>\n",
       "    </tr>\n",
       "    <tr>\n",
       "      <th>4</th>\n",
       "      <td>108.0</td>\n",
       "      <td>188.0</td>\n",
       "      <td>30.00</td>\n",
       "      <td>162.0</td>\n",
       "      <td>262.0</td>\n",
       "      <td>11.0</td>\n",
       "      <td>0.0</td>\n",
       "      <td>0.0</td>\n",
       "    </tr>\n",
       "    <tr>\n",
       "      <th>...</th>\n",
       "      <td>...</td>\n",
       "      <td>...</td>\n",
       "      <td>...</td>\n",
       "      <td>...</td>\n",
       "      <td>...</td>\n",
       "      <td>...</td>\n",
       "      <td>...</td>\n",
       "      <td>...</td>\n",
       "    </tr>\n",
       "    <tr>\n",
       "      <th>155</th>\n",
       "      <td>159.0</td>\n",
       "      <td>206.0</td>\n",
       "      <td>26.75</td>\n",
       "      <td>89.0</td>\n",
       "      <td>297.0</td>\n",
       "      <td>57.0</td>\n",
       "      <td>0.0</td>\n",
       "      <td>1.0</td>\n",
       "    </tr>\n",
       "    <tr>\n",
       "      <th>156</th>\n",
       "      <td>82.0</td>\n",
       "      <td>311.0</td>\n",
       "      <td>33.50</td>\n",
       "      <td>102.0</td>\n",
       "      <td>316.0</td>\n",
       "      <td>80.0</td>\n",
       "      <td>0.0</td>\n",
       "      <td>1.0</td>\n",
       "    </tr>\n",
       "    <tr>\n",
       "      <th>157</th>\n",
       "      <td>120.0</td>\n",
       "      <td>317.0</td>\n",
       "      <td>36.00</td>\n",
       "      <td>67.0</td>\n",
       "      <td>169.0</td>\n",
       "      <td>54.0</td>\n",
       "      <td>0.0</td>\n",
       "      <td>1.0</td>\n",
       "    </tr>\n",
       "    <tr>\n",
       "      <th>158</th>\n",
       "      <td>141.0</td>\n",
       "      <td>200.0</td>\n",
       "      <td>36.75</td>\n",
       "      <td>61.0</td>\n",
       "      <td>281.0</td>\n",
       "      <td>45.0</td>\n",
       "      <td>0.0</td>\n",
       "      <td>1.0</td>\n",
       "    </tr>\n",
       "    <tr>\n",
       "      <th>159</th>\n",
       "      <td>122.0</td>\n",
       "      <td>266.0</td>\n",
       "      <td>33.75</td>\n",
       "      <td>122.0</td>\n",
       "      <td>277.0</td>\n",
       "      <td>71.0</td>\n",
       "      <td>0.0</td>\n",
       "      <td>1.0</td>\n",
       "    </tr>\n",
       "  </tbody>\n",
       "</table>\n",
       "<p>154 rows × 8 columns</p>\n",
       "</div>"
      ],
      "text/plain": [
       "     Rushing Yards  Passing Yards  Time Of Possession  Rushing Yards allowed  \\\n",
       "0            130.0          215.0               30.50                  179.0   \n",
       "1            106.0          296.0               36.00                   72.0   \n",
       "2            139.0          221.0               35.00                  129.0   \n",
       "3            128.0          169.0               29.50                  132.0   \n",
       "4            108.0          188.0               30.00                  162.0   \n",
       "..             ...            ...                 ...                    ...   \n",
       "155          159.0          206.0               26.75                   89.0   \n",
       "156           82.0          311.0               33.50                  102.0   \n",
       "157          120.0          317.0               36.00                   67.0   \n",
       "158          141.0          200.0               36.75                   61.0   \n",
       "159          122.0          266.0               33.75                  122.0   \n",
       "\n",
       "     Passing Yards Allowed  Penalty Yards  Turnovers  Win  \n",
       "0                    203.0           36.0        2.0  0.0  \n",
       "1                    121.0           31.0        3.0  0.0  \n",
       "2                    104.0           88.0        1.0  1.0  \n",
       "3                    185.0           51.0        2.0  1.0  \n",
       "4                    262.0           11.0        0.0  0.0  \n",
       "..                     ...            ...        ...  ...  \n",
       "155                  297.0           57.0        0.0  1.0  \n",
       "156                  316.0           80.0        0.0  1.0  \n",
       "157                  169.0           54.0        0.0  1.0  \n",
       "158                  281.0           45.0        0.0  1.0  \n",
       "159                  277.0           71.0        0.0  1.0  \n",
       "\n",
       "[154 rows x 8 columns]"
      ]
     },
     "execution_count": 131,
     "metadata": {},
     "output_type": "execute_result"
    }
   ],
   "source": [
    "team_data= team_data.drop(\"Year\", axis = 1)\n",
    "\n",
    "team_data"
   ]
  },
  {
   "cell_type": "code",
   "execution_count": 132,
   "id": "5bafc389",
   "metadata": {},
   "outputs": [
    {
     "data": {
      "text/html": [
       "<div>\n",
       "<style scoped>\n",
       "    .dataframe tbody tr th:only-of-type {\n",
       "        vertical-align: middle;\n",
       "    }\n",
       "\n",
       "    .dataframe tbody tr th {\n",
       "        vertical-align: top;\n",
       "    }\n",
       "\n",
       "    .dataframe thead th {\n",
       "        text-align: right;\n",
       "    }\n",
       "</style>\n",
       "<table border=\"1\" class=\"dataframe\">\n",
       "  <thead>\n",
       "    <tr style=\"text-align: right;\">\n",
       "      <th></th>\n",
       "      <th>Rushing Yards</th>\n",
       "      <th>Passing Yards</th>\n",
       "      <th>Time Of Possession</th>\n",
       "      <th>Rushing Yards allowed</th>\n",
       "      <th>Passing Yards Allowed</th>\n",
       "      <th>Penalty Yards</th>\n",
       "      <th>Turnovers</th>\n",
       "    </tr>\n",
       "  </thead>\n",
       "  <tbody>\n",
       "    <tr>\n",
       "      <th>0</th>\n",
       "      <td>130.0</td>\n",
       "      <td>215.0</td>\n",
       "      <td>30.50</td>\n",
       "      <td>179.0</td>\n",
       "      <td>203.0</td>\n",
       "      <td>36.0</td>\n",
       "      <td>2.0</td>\n",
       "    </tr>\n",
       "    <tr>\n",
       "      <th>1</th>\n",
       "      <td>106.0</td>\n",
       "      <td>296.0</td>\n",
       "      <td>36.00</td>\n",
       "      <td>72.0</td>\n",
       "      <td>121.0</td>\n",
       "      <td>31.0</td>\n",
       "      <td>3.0</td>\n",
       "    </tr>\n",
       "    <tr>\n",
       "      <th>2</th>\n",
       "      <td>139.0</td>\n",
       "      <td>221.0</td>\n",
       "      <td>35.00</td>\n",
       "      <td>129.0</td>\n",
       "      <td>104.0</td>\n",
       "      <td>88.0</td>\n",
       "      <td>1.0</td>\n",
       "    </tr>\n",
       "    <tr>\n",
       "      <th>3</th>\n",
       "      <td>128.0</td>\n",
       "      <td>169.0</td>\n",
       "      <td>29.50</td>\n",
       "      <td>132.0</td>\n",
       "      <td>185.0</td>\n",
       "      <td>51.0</td>\n",
       "      <td>2.0</td>\n",
       "    </tr>\n",
       "    <tr>\n",
       "      <th>4</th>\n",
       "      <td>108.0</td>\n",
       "      <td>188.0</td>\n",
       "      <td>30.00</td>\n",
       "      <td>162.0</td>\n",
       "      <td>262.0</td>\n",
       "      <td>11.0</td>\n",
       "      <td>0.0</td>\n",
       "    </tr>\n",
       "    <tr>\n",
       "      <th>...</th>\n",
       "      <td>...</td>\n",
       "      <td>...</td>\n",
       "      <td>...</td>\n",
       "      <td>...</td>\n",
       "      <td>...</td>\n",
       "      <td>...</td>\n",
       "      <td>...</td>\n",
       "    </tr>\n",
       "    <tr>\n",
       "      <th>155</th>\n",
       "      <td>159.0</td>\n",
       "      <td>206.0</td>\n",
       "      <td>26.75</td>\n",
       "      <td>89.0</td>\n",
       "      <td>297.0</td>\n",
       "      <td>57.0</td>\n",
       "      <td>0.0</td>\n",
       "    </tr>\n",
       "    <tr>\n",
       "      <th>156</th>\n",
       "      <td>82.0</td>\n",
       "      <td>311.0</td>\n",
       "      <td>33.50</td>\n",
       "      <td>102.0</td>\n",
       "      <td>316.0</td>\n",
       "      <td>80.0</td>\n",
       "      <td>0.0</td>\n",
       "    </tr>\n",
       "    <tr>\n",
       "      <th>157</th>\n",
       "      <td>120.0</td>\n",
       "      <td>317.0</td>\n",
       "      <td>36.00</td>\n",
       "      <td>67.0</td>\n",
       "      <td>169.0</td>\n",
       "      <td>54.0</td>\n",
       "      <td>0.0</td>\n",
       "    </tr>\n",
       "    <tr>\n",
       "      <th>158</th>\n",
       "      <td>141.0</td>\n",
       "      <td>200.0</td>\n",
       "      <td>36.75</td>\n",
       "      <td>61.0</td>\n",
       "      <td>281.0</td>\n",
       "      <td>45.0</td>\n",
       "      <td>0.0</td>\n",
       "    </tr>\n",
       "    <tr>\n",
       "      <th>159</th>\n",
       "      <td>122.0</td>\n",
       "      <td>266.0</td>\n",
       "      <td>33.75</td>\n",
       "      <td>122.0</td>\n",
       "      <td>277.0</td>\n",
       "      <td>71.0</td>\n",
       "      <td>0.0</td>\n",
       "    </tr>\n",
       "  </tbody>\n",
       "</table>\n",
       "<p>154 rows × 7 columns</p>\n",
       "</div>"
      ],
      "text/plain": [
       "     Rushing Yards  Passing Yards  Time Of Possession  Rushing Yards allowed  \\\n",
       "0            130.0          215.0               30.50                  179.0   \n",
       "1            106.0          296.0               36.00                   72.0   \n",
       "2            139.0          221.0               35.00                  129.0   \n",
       "3            128.0          169.0               29.50                  132.0   \n",
       "4            108.0          188.0               30.00                  162.0   \n",
       "..             ...            ...                 ...                    ...   \n",
       "155          159.0          206.0               26.75                   89.0   \n",
       "156           82.0          311.0               33.50                  102.0   \n",
       "157          120.0          317.0               36.00                   67.0   \n",
       "158          141.0          200.0               36.75                   61.0   \n",
       "159          122.0          266.0               33.75                  122.0   \n",
       "\n",
       "     Passing Yards Allowed  Penalty Yards  Turnovers  \n",
       "0                    203.0           36.0        2.0  \n",
       "1                    121.0           31.0        3.0  \n",
       "2                    104.0           88.0        1.0  \n",
       "3                    185.0           51.0        2.0  \n",
       "4                    262.0           11.0        0.0  \n",
       "..                     ...            ...        ...  \n",
       "155                  297.0           57.0        0.0  \n",
       "156                  316.0           80.0        0.0  \n",
       "157                  169.0           54.0        0.0  \n",
       "158                  281.0           45.0        0.0  \n",
       "159                  277.0           71.0        0.0  \n",
       "\n",
       "[154 rows x 7 columns]"
      ]
     },
     "execution_count": 132,
     "metadata": {},
     "output_type": "execute_result"
    }
   ],
   "source": [
    "X = team_data.drop(\"Win\", axis = 1)\n",
    "X"
   ]
  },
  {
   "cell_type": "code",
   "execution_count": 133,
   "id": "357f9f6e",
   "metadata": {},
   "outputs": [
    {
     "data": {
      "text/plain": [
       "0    0.0\n",
       "1    0.0\n",
       "2    1.0\n",
       "3    1.0\n",
       "4    0.0\n",
       "Name: Win, dtype: float64"
      ]
     },
     "execution_count": 133,
     "metadata": {},
     "output_type": "execute_result"
    }
   ],
   "source": [
    "y = team_data[\"Win\"]\n",
    "y.head()"
   ]
  },
  {
   "cell_type": "code",
   "execution_count": 134,
   "id": "07f73d27",
   "metadata": {},
   "outputs": [],
   "source": [
    "from sklearn.model_selection import train_test_split\n",
    "X_train, X_test, y_train, y_test = train_test_split(X, y, test_size = 0.2\n",
    "                                                   )"
   ]
  },
  {
   "cell_type": "code",
   "execution_count": 135,
   "id": "5dfc328e",
   "metadata": {},
   "outputs": [
    {
     "data": {
      "text/plain": [
       "0.8064516129032258"
      ]
     },
     "execution_count": 135,
     "metadata": {},
     "output_type": "execute_result"
    }
   ],
   "source": [
    "from sklearn.ensemble import RandomForestClassifier\n",
    "np.random.seed(42)\n",
    "\n",
    "model = RandomForestClassifier()\n",
    "model.fit(X_train, y_train)\n",
    "model.score(X_test, y_test)"
   ]
  },
  {
   "cell_type": "code",
   "execution_count": 92,
   "id": "daa9d71f",
   "metadata": {},
   "outputs": [
    {
     "data": {
      "application/vnd.jupyter.widget-view+json": {
       "model_id": "7059d3b8685443dc8bfd01d5865fd6da",
       "version_major": 2,
       "version_minor": 0
      },
      "text/plain": [
       "Text(value='', description='Team Name')"
      ]
     },
     "metadata": {},
     "output_type": "display_data"
    },
    {
     "data": {
      "application/vnd.jupyter.widget-view+json": {
       "model_id": "9ddce6fd95f4423dbb2da7e58251a56a",
       "version_major": 2,
       "version_minor": 0
      },
      "text/plain": [
       "Label(value='VS')"
      ]
     },
     "metadata": {},
     "output_type": "display_data"
    },
    {
     "data": {
      "application/vnd.jupyter.widget-view+json": {
       "model_id": "248f9905315d4c038bdd6d82b346597d",
       "version_major": 2,
       "version_minor": 0
      },
      "text/plain": [
       "Text(value='', description='Team Name')"
      ]
     },
     "metadata": {},
     "output_type": "display_data"
    }
   ],
   "source": [
    "import ipywidgets as widgets\n",
    "from IPython.display import display\n",
    "\n",
    "team_one = widgets.Text(\n",
    "    value = \"\", \n",
    "    description = \"Team Name\", \n",
    "    disabled = False\n",
    ")\n",
    "versus = widgets.Label(\n",
    "    value = \"VS\"\n",
    ")\n",
    "team_two = widgets.Text(\n",
    "    value = \"\", \n",
    "    description = \"Team Name\", \n",
    "    disabled = False\n",
    ")\n",
    "display(team_one, versus, team_two)"
   ]
  },
  {
   "cell_type": "code",
   "execution_count": 160,
   "id": "12be9950",
   "metadata": {},
   "outputs": [
    {
     "name": "stdout",
     "output_type": "stream",
     "text": [
      "Green Bay has a 47.0% chance of winning the game.\n",
      "Minnesota has a 21.0% chance of winning the game.\n"
     ]
    },
    {
     "name": "stderr",
     "output_type": "stream",
     "text": [
      "/Users/nickjenkins/Desktop/football_predictions/env/lib/python3.10/site-packages/sklearn/base.py:464: UserWarning: X does not have valid feature names, but RandomForestClassifier was fitted with feature names\n",
      "  warnings.warn(\n",
      "/Users/nickjenkins/Desktop/football_predictions/env/lib/python3.10/site-packages/sklearn/base.py:464: UserWarning: X does not have valid feature names, but RandomForestClassifier was fitted with feature names\n",
      "  warnings.warn(\n",
      "/Users/nickjenkins/Desktop/football_predictions/env/lib/python3.10/site-packages/sklearn/base.py:464: UserWarning: X does not have valid feature names, but RandomForestClassifier was fitted with feature names\n",
      "  warnings.warn(\n",
      "/Users/nickjenkins/Desktop/football_predictions/env/lib/python3.10/site-packages/sklearn/base.py:464: UserWarning: X does not have valid feature names, but RandomForestClassifier was fitted with feature names\n",
      "  warnings.warn(\n",
      "/Users/nickjenkins/Desktop/football_predictions/env/lib/python3.10/site-packages/sklearn/base.py:464: UserWarning: X does not have valid feature names, but RandomForestClassifier was fitted with feature names\n",
      "  warnings.warn(\n",
      "/Users/nickjenkins/Desktop/football_predictions/env/lib/python3.10/site-packages/sklearn/base.py:464: UserWarning: X does not have valid feature names, but RandomForestClassifier was fitted with feature names\n",
      "  warnings.warn(\n",
      "/Users/nickjenkins/Desktop/football_predictions/env/lib/python3.10/site-packages/sklearn/base.py:464: UserWarning: X does not have valid feature names, but RandomForestClassifier was fitted with feature names\n",
      "  warnings.warn(\n",
      "/Users/nickjenkins/Desktop/football_predictions/env/lib/python3.10/site-packages/sklearn/base.py:464: UserWarning: X does not have valid feature names, but RandomForestClassifier was fitted with feature names\n",
      "  warnings.warn(\n",
      "/Users/nickjenkins/Desktop/football_predictions/env/lib/python3.10/site-packages/sklearn/base.py:464: UserWarning: X does not have valid feature names, but RandomForestClassifier was fitted with feature names\n",
      "  warnings.warn(\n",
      "/Users/nickjenkins/Desktop/football_predictions/env/lib/python3.10/site-packages/sklearn/base.py:464: UserWarning: X does not have valid feature names, but RandomForestClassifier was fitted with feature names\n",
      "  warnings.warn(\n",
      "/Users/nickjenkins/Desktop/football_predictions/env/lib/python3.10/site-packages/sklearn/base.py:464: UserWarning: X does not have valid feature names, but RandomForestClassifier was fitted with feature names\n",
      "  warnings.warn(\n",
      "/Users/nickjenkins/Desktop/football_predictions/env/lib/python3.10/site-packages/sklearn/base.py:464: UserWarning: X does not have valid feature names, but RandomForestClassifier was fitted with feature names\n",
      "  warnings.warn(\n",
      "/Users/nickjenkins/Desktop/football_predictions/env/lib/python3.10/site-packages/sklearn/base.py:464: UserWarning: X does not have valid feature names, but RandomForestClassifier was fitted with feature names\n",
      "  warnings.warn(\n",
      "/Users/nickjenkins/Desktop/football_predictions/env/lib/python3.10/site-packages/sklearn/base.py:464: UserWarning: X does not have valid feature names, but RandomForestClassifier was fitted with feature names\n",
      "  warnings.warn(\n",
      "/Users/nickjenkins/Desktop/football_predictions/env/lib/python3.10/site-packages/sklearn/base.py:464: UserWarning: X does not have valid feature names, but RandomForestClassifier was fitted with feature names\n",
      "  warnings.warn(\n",
      "/Users/nickjenkins/Desktop/football_predictions/env/lib/python3.10/site-packages/sklearn/base.py:464: UserWarning: X does not have valid feature names, but RandomForestClassifier was fitted with feature names\n",
      "  warnings.warn(\n",
      "/Users/nickjenkins/Desktop/football_predictions/env/lib/python3.10/site-packages/sklearn/base.py:464: UserWarning: X does not have valid feature names, but RandomForestClassifier was fitted with feature names\n",
      "  warnings.warn(\n",
      "/Users/nickjenkins/Desktop/football_predictions/env/lib/python3.10/site-packages/sklearn/base.py:464: UserWarning: X does not have valid feature names, but RandomForestClassifier was fitted with feature names\n",
      "  warnings.warn(\n",
      "/Users/nickjenkins/Desktop/football_predictions/env/lib/python3.10/site-packages/sklearn/base.py:464: UserWarning: X does not have valid feature names, but RandomForestClassifier was fitted with feature names\n",
      "  warnings.warn(\n",
      "/Users/nickjenkins/Desktop/football_predictions/env/lib/python3.10/site-packages/sklearn/base.py:464: UserWarning: X does not have valid feature names, but RandomForestClassifier was fitted with feature names\n",
      "  warnings.warn(\n",
      "/Users/nickjenkins/Desktop/football_predictions/env/lib/python3.10/site-packages/sklearn/base.py:464: UserWarning: X does not have valid feature names, but RandomForestClassifier was fitted with feature names\n",
      "  warnings.warn(\n",
      "/Users/nickjenkins/Desktop/football_predictions/env/lib/python3.10/site-packages/sklearn/base.py:464: UserWarning: X does not have valid feature names, but RandomForestClassifier was fitted with feature names\n",
      "  warnings.warn(\n",
      "/Users/nickjenkins/Desktop/football_predictions/env/lib/python3.10/site-packages/sklearn/base.py:464: UserWarning: X does not have valid feature names, but RandomForestClassifier was fitted with feature names\n",
      "  warnings.warn(\n",
      "/Users/nickjenkins/Desktop/football_predictions/env/lib/python3.10/site-packages/sklearn/base.py:464: UserWarning: X does not have valid feature names, but RandomForestClassifier was fitted with feature names\n",
      "  warnings.warn(\n",
      "/Users/nickjenkins/Desktop/football_predictions/env/lib/python3.10/site-packages/sklearn/base.py:464: UserWarning: X does not have valid feature names, but RandomForestClassifier was fitted with feature names\n",
      "  warnings.warn(\n",
      "/Users/nickjenkins/Desktop/football_predictions/env/lib/python3.10/site-packages/sklearn/base.py:464: UserWarning: X does not have valid feature names, but RandomForestClassifier was fitted with feature names\n",
      "  warnings.warn(\n",
      "/Users/nickjenkins/Desktop/football_predictions/env/lib/python3.10/site-packages/sklearn/base.py:464: UserWarning: X does not have valid feature names, but RandomForestClassifier was fitted with feature names\n",
      "  warnings.warn(\n",
      "/Users/nickjenkins/Desktop/football_predictions/env/lib/python3.10/site-packages/sklearn/base.py:464: UserWarning: X does not have valid feature names, but RandomForestClassifier was fitted with feature names\n",
      "  warnings.warn(\n",
      "/Users/nickjenkins/Desktop/football_predictions/env/lib/python3.10/site-packages/sklearn/base.py:464: UserWarning: X does not have valid feature names, but RandomForestClassifier was fitted with feature names\n",
      "  warnings.warn(\n",
      "/Users/nickjenkins/Desktop/football_predictions/env/lib/python3.10/site-packages/sklearn/base.py:464: UserWarning: X does not have valid feature names, but RandomForestClassifier was fitted with feature names\n",
      "  warnings.warn(\n",
      "/Users/nickjenkins/Desktop/football_predictions/env/lib/python3.10/site-packages/sklearn/base.py:464: UserWarning: X does not have valid feature names, but RandomForestClassifier was fitted with feature names\n",
      "  warnings.warn(\n",
      "/Users/nickjenkins/Desktop/football_predictions/env/lib/python3.10/site-packages/sklearn/base.py:464: UserWarning: X does not have valid feature names, but RandomForestClassifier was fitted with feature names\n",
      "  warnings.warn(\n"
     ]
    }
   ],
   "source": [
    "team1 = team_one.value.lower()\n",
    "team2 = team_two.value.lower()\n",
    "team_arrays = {\n",
    "    \"arizona\": arizona_array,\n",
    "    \"atlanta\": atlanta_array,\n",
    "    \"baltimore\": baltimore_array,\n",
    "    \"buffalo\": bills_array,\n",
    "    \"carolina\": carolina_array,\n",
    "    \"chicago\": chicago_array,\n",
    "    \"cincinnati\": cincinnati_array,\n",
    "    \"cleveland\": cleveland_array,\n",
    "    \"dallas\": dallas_array,\n",
    "    \"denver\": denver_array,\n",
    "    \"detroit\": detroit_array,\n",
    "    \"green_bay\": greenbay_array,\n",
    "    \"houston\": houston_array,\n",
    "    \"indianapolis\": colts_array,\n",
    "    \"jacksonville\": jacksonville_array,\n",
    "    \"kansas_city\": kansascity_array,\n",
    "    \"las vegas\": raiders_array,\n",
    "    \"los_angeles_chargers\": chargers_array,\n",
    "    \"los_angeles_rams\": rams_array,\n",
    "    \"miami\": miami_array,\n",
    "    \"minnesota\": minesota_array,\n",
    "    \"new england\": newengland_array,\n",
    "    \"new orleans\": neworleans_array,\n",
    "    \"new york giants\": giants_array,\n",
    "    \"new york jets\": jets_array,\n",
    "    \"philadelphia\": philadelphia_array,\n",
    "    \"pittsburgh\": pittsburgh_array,\n",
    "    \"san francisco\": sanfrancisco_array,\n",
    "    \"seattle\": seattle_array,\n",
    "    \"tampa bay\": tampabay_array,\n",
    "    \"tennessee\": tennessee_array,\n",
    "    \"washington\": washington_array\n",
    "}\n",
    "\n",
    "def convert_team_name(team_name):\n",
    "    if team_name in team_arrays: \n",
    "        return model.predict_proba(team_arrays[team_name].reshape(1,-1))\n",
    "    else:\n",
    "        print(\"That team is not in the NFL\")\n",
    "\n",
    "team_sum = {}\n",
    "team_probabilities = {}\n",
    "for team_name in team_arrays:\n",
    "    team_probabilities[team_name] = convert_team_name(team_name)\n",
    "    \n",
    "if team1 in team_arrays:\n",
    "    result1 = team_probabilities[team1]\n",
    "\n",
    "if team2 in team_arrays:\n",
    "    result2 = team_probabilities[team2]\n",
    "\n",
    "winOdds = result1[0,1]\n",
    "lossOdds = result1[0,0]\n",
    "\n",
    "winOdds2 = result2[0,1]\n",
    "lossOdds2 = result2[0,0]\n",
    "\n",
    "oddsToWin1 = winOdds * lossOdds2\n",
    "oddsToWin2 = winOdds2 * lossOdds\n",
    "\n",
    "print(f\"{team1.title()} has a {(result1[0,1])*100}% chance of winning the game.\")\n",
    "print(f\"{team2.title()} has a {(result2[0,1])*100}% chance of winning the game.\")\n",
    "    \n",
    "\n",
    "\n",
    "       \n",
    "        "
   ]
  },
  {
   "cell_type": "code",
   "execution_count": null,
   "id": "86b9496d",
   "metadata": {},
   "outputs": [],
   "source": []
  }
 ],
 "metadata": {
  "kernelspec": {
   "display_name": "Python 3 (ipykernel)",
   "language": "python",
   "name": "python3"
  },
  "language_info": {
   "codemirror_mode": {
    "name": "ipython",
    "version": 3
   },
   "file_extension": ".py",
   "mimetype": "text/x-python",
   "name": "python",
   "nbconvert_exporter": "python",
   "pygments_lexer": "ipython3",
   "version": "3.11.5"
  }
 },
 "nbformat": 4,
 "nbformat_minor": 5
}
